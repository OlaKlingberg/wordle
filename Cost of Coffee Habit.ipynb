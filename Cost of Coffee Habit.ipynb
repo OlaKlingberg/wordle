{
 "cells": [
  {
   "cell_type": "markdown",
   "metadata": {},
   "source": [
    "From New York Times\n",
    "https://www.nytimes.com/2021/10/20/technology/personaltech/iphone-upgrades-cost.html?searchResultPosition=4\n",
    "\n",
    "If you put \\\\$12 a month into a retirement account, like a Roth I.R.A. that has an average annual rate of return of 10 percent, that amount would turn into $25,161 over 30 years, according to Ms. Orman’s savings calculator."
   ]
  },
  {
   "cell_type": "code",
   "execution_count": 8,
   "metadata": {
    "ExecuteTime": {
     "end_time": "2021-10-30T23:17:00.168978Z",
     "start_time": "2021-10-30T23:17:00.165456Z"
    }
   },
   "outputs": [
    {
     "name": "stdout",
     "output_type": "stream",
     "text": [
      "8356\n"
     ]
    }
   ],
   "source": [
    "annual_return = 0.04\n",
    "monthly_contribution = 12\n",
    "years = 30\n",
    "\n",
    "monthly_return = annual_return / 12\n",
    "\n",
    "\n",
    "total = 0\n",
    "\n",
    "for i in range(years * 12):\n",
    "    total += monthly_contribution\n",
    "    total *= (1 + monthly_return)\n",
    "\n",
    "print(round(total))\n"
   ]
  },
  {
   "cell_type": "code",
   "execution_count": null,
   "metadata": {},
   "outputs": [],
   "source": []
  }
 ],
 "metadata": {
  "kernelspec": {
   "display_name": "Python 3",
   "language": "python",
   "name": "python3"
  },
  "language_info": {
   "codemirror_mode": {
    "name": "ipython",
    "version": 3
   },
   "file_extension": ".py",
   "mimetype": "text/x-python",
   "name": "python",
   "nbconvert_exporter": "python",
   "pygments_lexer": "ipython3",
   "version": "3.8.2"
  },
  "varInspector": {
   "cols": {
    "lenName": 16,
    "lenType": 16,
    "lenVar": 40
   },
   "kernels_config": {
    "python": {
     "delete_cmd_postfix": "",
     "delete_cmd_prefix": "del ",
     "library": "var_list.py",
     "varRefreshCmd": "print(var_dic_list())"
    },
    "r": {
     "delete_cmd_postfix": ") ",
     "delete_cmd_prefix": "rm(",
     "library": "var_list.r",
     "varRefreshCmd": "cat(var_dic_list()) "
    }
   },
   "types_to_exclude": [
    "module",
    "function",
    "builtin_function_or_method",
    "instance",
    "_Feature"
   ],
   "window_display": false
  }
 },
 "nbformat": 4,
 "nbformat_minor": 4
}
