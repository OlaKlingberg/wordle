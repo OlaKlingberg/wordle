{
 "cells": [
  {
   "cell_type": "markdown",
   "metadata": {},
   "source": [
    "## Imports"
   ]
  },
  {
   "cell_type": "code",
   "execution_count": 1,
   "metadata": {
    "ExecuteTime": {
     "end_time": "2022-08-30T11:50:49.193566Z",
     "start_time": "2022-08-30T11:50:48.633466Z"
    }
   },
   "outputs": [],
   "source": [
    "import numpy as np\n",
    "import pandas as pd"
   ]
  },
  {
   "cell_type": "code",
   "execution_count": 2,
   "metadata": {
    "ExecuteTime": {
     "end_time": "2022-08-30T11:50:50.348673Z",
     "start_time": "2022-08-30T11:50:49.819906Z"
    }
   },
   "outputs": [],
   "source": [
    "# Create a dataframe with the list of words\n",
    "words_raw = pd.read_csv('5-letter-words.csv')\n",
    "words = words_raw['words'].apply(list).apply(pd.Series).drop(np.arange(5, 51), axis=1)\n",
    "words = words.apply(lambda x: x.astype(str).str.upper())"
   ]
  },
  {
   "cell_type": "markdown",
   "metadata": {},
   "source": [
    "## Functions"
   ]
  },
  {
   "cell_type": "code",
   "execution_count": 3,
   "metadata": {
    "ExecuteTime": {
     "end_time": "2022-08-30T11:50:51.002111Z",
     "start_time": "2022-08-30T11:50:50.999101Z"
    }
   },
   "outputs": [],
   "source": [
    "def set_secret(secret):        \n",
    "    \n",
    "    # Set the secret word\n",
    "    if secret == None:\n",
    "        secret = list(words.iloc[np.random.randint(0, len(words))])\n",
    "    else:\n",
    "        secret = list(secret.upper())           \n",
    "    return(secret)    "
   ]
  },
  {
   "cell_type": "code",
   "execution_count": 4,
   "metadata": {
    "ExecuteTime": {
     "end_time": "2022-08-30T11:50:51.808144Z",
     "start_time": "2022-08-30T11:50:51.803456Z"
    },
    "code_folding": []
   },
   "outputs": [],
   "source": [
    "# def check_word_against_secret(secret, results, guess): \n",
    "def check_word_against_secret(secret, guess): \n",
    "\n",
    "    checks = list(np.zeros(5).astype(int))\n",
    "\n",
    "    unmatched_letters_in_secret = secret.copy()\n",
    "\n",
    "    # Check for correct letter in the correct space. Mark with a 2 in the check row.\n",
    "    for letter_pos in range(0, 5):\n",
    "        if guess[letter_pos] == secret[letter_pos]:\n",
    "            checks[letter_pos] = 2\n",
    "            unmatched_letters_in_secret.remove(secret[letter_pos])\n",
    "        \n",
    "    # Iterate over the guess and check if the letters is anywhere else in the secret\n",
    "    for letter_pos in range(0, 5):\n",
    "        if checks[letter_pos] == 2:\n",
    "            continue\n",
    "        if guess[letter_pos] in unmatched_letters_in_secret:\n",
    "            checks[letter_pos] = 1\n",
    "            unmatched_letters_in_secret.remove(guess[letter_pos])\n",
    "\n",
    "    return(checks)"
   ]
  },
  {
   "cell_type": "code",
   "execution_count": 5,
   "metadata": {
    "ExecuteTime": {
     "end_time": "2022-08-30T11:50:53.392474Z",
     "start_time": "2022-08-30T11:50:53.382536Z"
    },
    "code_folding": []
   },
   "outputs": [],
   "source": [
    "def determine_remaining(possibles, results):\n",
    "    guess = results.iloc[-2]\n",
    "    checks_for_guess = results.iloc[-1]\n",
    "    \n",
    "    # Find the positions of letters that are correct\n",
    "    pos_of_twos = [idx for idx, check in enumerate(results.iloc[-1]) if check == 2]\n",
    "    \n",
    "    # Find the positions of letters that are in the wrong position\n",
    "    pos_of_ones = [idx for idx, check in enumerate(results.iloc[-1]) if check == 1]\n",
    "    \n",
    "    # Find the positions of letters that are not in the secret word\n",
    "    pos_of_zeros = [idx for idx, check in enumerate(results.iloc[-1]) if check == 0]\n",
    "\n",
    "    # Loop through the letters that are in the correct place (the \"twos\").\n",
    "    for pos in pos_of_twos:\n",
    "        # Keep only those words that have the letter in question in the correct place.\n",
    "        possibles = possibles[possibles[pos] == guess[pos]]\n",
    "       \n",
    "    # Loop through those letters that are not in the word (the \"zeros\").\n",
    "    for pos_outer in pos_of_zeros:\n",
    "        # Check if the letter is unique in the guess. (If not, it may still be in the word.)\n",
    "        if not(guess.drop([pos_outer]).isin([guess[pos_outer]]).any()):\n",
    "            \n",
    "            # The letter is unique in the word. Keep only those words \n",
    "            # that don't have the letter in in any position that has a zero or one check.\n",
    "            # (The positions with a two check have already been taken care of.)\n",
    "            for pos_inner in (pos_of_zeros + pos_of_ones):\n",
    "                possibles = possibles[possibles[pos_inner] != guess[pos_outer]]\n",
    "                \n",
    "        else:\n",
    "            # The letter is not unique. Filter out only those words that have the letter in question\n",
    "            # in the position marked with a 0.\n",
    "            possibles = possibles[possibles[pos_outer] != guess[pos_outer]]\n",
    "        \n",
    "    # Loop through the results and check them with the check function.\n",
    "    for idx, possible in possibles.iterrows():        \n",
    "            \n",
    "        checks_for_possible = check_word_against_secret(list(possible), list(guess))\n",
    "        \n",
    "        if not((checks_for_possible == checks_for_guess).all()):\n",
    "            possibles = possibles.drop(idx)\n",
    "        \n",
    "    return(possibles)"
   ]
  },
  {
   "cell_type": "code",
   "execution_count": 349,
   "metadata": {
    "ExecuteTime": {
     "end_time": "2022-03-22T03:45:23.859068Z",
     "start_time": "2022-03-22T03:45:23.849793Z"
    },
    "code_folding": [
     0
    ]
   },
   "outputs": [],
   "source": [
    "def determine_remaining_old(possible, results):\n",
    "    # Find the positions of letters that are correct\n",
    "    pos_of_twos = [idx for idx, check in enumerate(results.iloc[-1]) if check == 2]\n",
    "    \n",
    "    # Find the positions of letters that are in the wrong position\n",
    "    pos_of_ones = [idx for idx, check in enumerate(results.iloc[-1]) if check == 1]\n",
    "    \n",
    "    # Find the positions of letters that are not in the secret word\n",
    "    pos_of_zeros = [idx for idx, check in enumerate(results.iloc[-1]) if check == 0]\n",
    "\n",
    "    # If a letter is on both pos_of_ones and pos_of_zeros, remove the respective positions from both.\n",
    "    \n",
    "\n",
    "    # Alternative to the above approach\n",
    "    \n",
    "    \n",
    "    \n",
    "    \n",
    "    \n",
    "    \n",
    "    # Filter based on correct letter in correct position\n",
    "    for position in pos_of_twos:\n",
    "        possible = possible[possible[position] == results.iloc[-2, position]]\n",
    "\n",
    "    \n",
    "        \n",
    "        \n",
    "    # Like the filter below, this one probably gives incorrect results \n",
    "    # when there are two of the same letter in the guess.\n",
    "    # I will probably have to loop over the remaining possible words and check them one by one,\n",
    "    # using the check function. That will work, but will probably be much, much slower.\n",
    "    # Filter based on correct letter in wrong position\n",
    "    for position in pos_of_included_letters:\n",
    "        possible = possible[possible[position] != results.iloc[-2, position]]\n",
    "        \n",
    "        possible_positions_in_secret = pos_of_included_letters + pos_of_excluded_letters\n",
    "        possible_positions_in_secret.remove(position)\n",
    "        condition = ''\n",
    "        for possible_position_in_secret in possible_positions_in_secret:\n",
    "            condition += \"(possible[\" + str(possible_position_in_secret) \\\n",
    "                + \"] == results.iloc[-2, \" + str(position) + \"]) | \"\n",
    "        condition = condition.rstrip(\" | \")\n",
    "        possible = possible[eval(condition)]\n",
    "\n",
    "        \n",
    "    # This gives the wrong result if the secret is 'chalk' and the guess is 'alley'.\n",
    "    # It's probably the two l:s that cause the problem.\n",
    "    # The first l requires there to be an l in the word.\n",
    "    # The second l is interpreted to forbid there to be an l in the word.\n",
    "    # Filter based on letters not included in the secret.\n",
    "    for position in pos_of_excluded_letters:\n",
    "        possible_positions_in_secret = pos_of_included_letters + pos_of_excluded_letters\n",
    "        \n",
    "        condition = ''\n",
    "        for possible_position_in_secret in possible_positions_in_secret:\n",
    "            condition += \"(possible[\" + str(possible_position_in_secret) \\\n",
    "                + \"] != '\" + results.iloc[-2, position] + \"') & \"\n",
    "        condition = condition.rstrip(\" & \")\n",
    "        possible = possible[eval(condition)]\n",
    "\n",
    "    return(possible)        "
   ]
  },
  {
   "cell_type": "code",
   "execution_count": 6,
   "metadata": {
    "ExecuteTime": {
     "end_time": "2022-08-30T11:50:55.181430Z",
     "start_time": "2022-08-30T11:50:55.176060Z"
    },
    "code_folding": []
   },
   "outputs": [],
   "source": [
    "def build_results(results, secret, guess):\n",
    "    # Check the length of results to determine the number of the guess\n",
    "    guess_number = int(1 + (len(results) / 2))\n",
    "    \n",
    "    # Check the guess\n",
    "    checks = check_word_against_secret(secret, guess)\n",
    "    \n",
    "    # Make a hierchical indx for a new two-row df\n",
    "    hier_index = pd.MultiIndex.from_tuples([(guess_number, 'guess'), (guess_number, 'check')])\n",
    "    \n",
    "    # Make a new two-row df for the new guess and checks\n",
    "    guess_and_checks = pd.DataFrame(data = [guess, checks], index = hier_index)\n",
    "\n",
    "    # Add the new guess and checks to the results\n",
    "    if len(results) == 0:\n",
    "        results = guess_and_checks.copy()\n",
    "    else:\n",
    "        results = pd.concat([results, guess_and_checks])   \n",
    "        \n",
    "    return(results)\n"
   ]
  },
  {
   "cell_type": "markdown",
   "metadata": {},
   "source": [
    "## Play manually"
   ]
  },
  {
   "cell_type": "code",
   "execution_count": 61,
   "metadata": {
    "ExecuteTime": {
     "end_time": "2022-03-26T03:16:38.406622Z",
     "start_time": "2022-03-26T03:16:29.808148Z"
    },
    "code_folding": [],
    "collapsed": true
   },
   "outputs": [
    {
     "name": "stdout",
     "output_type": "stream",
     "text": [
      "         0  1  2  3  4\n",
      "0 secr.  S  T  E  A  K\n",
      "smart\n",
      "         0  1  2  3  4\n",
      "1 guess  S  M  A  R  T\n",
      "  check  2  0  1  0  1\n",
      "**************************************************\n"
     ]
    },
    {
     "ename": "KeyboardInterrupt",
     "evalue": "Interrupted by user",
     "output_type": "error",
     "traceback": [
      "\u001b[0;31m---------------------------------------------------------------------------\u001b[0m",
      "\u001b[0;31mKeyboardInterrupt\u001b[0m                         Traceback (most recent call last)",
      "\u001b[0;32m<ipython-input-61-a0e3a60548b7>\u001b[0m in \u001b[0;36m<module>\u001b[0;34m\u001b[0m\n\u001b[1;32m     18\u001b[0m \u001b[0;34m\u001b[0m\u001b[0m\n\u001b[1;32m     19\u001b[0m     \u001b[0;31m# Prompt the user for a guess.\u001b[0m\u001b[0;34m\u001b[0m\u001b[0;34m\u001b[0m\u001b[0;34m\u001b[0m\u001b[0m\n\u001b[0;32m---> 20\u001b[0;31m     \u001b[0mguess\u001b[0m \u001b[0;34m=\u001b[0m \u001b[0mlist\u001b[0m\u001b[0;34m(\u001b[0m\u001b[0minput\u001b[0m\u001b[0;34m(\u001b[0m\u001b[0;34m)\u001b[0m\u001b[0;34m.\u001b[0m\u001b[0mupper\u001b[0m\u001b[0;34m(\u001b[0m\u001b[0;34m)\u001b[0m\u001b[0;34m)\u001b[0m\u001b[0;34m\u001b[0m\u001b[0;34m\u001b[0m\u001b[0m\n\u001b[0m\u001b[1;32m     21\u001b[0m \u001b[0;34m\u001b[0m\u001b[0m\n\u001b[1;32m     22\u001b[0m     \u001b[0mresults\u001b[0m \u001b[0;34m=\u001b[0m \u001b[0mbuild_results\u001b[0m\u001b[0;34m(\u001b[0m\u001b[0mresults\u001b[0m\u001b[0;34m,\u001b[0m \u001b[0msecret\u001b[0m\u001b[0;34m,\u001b[0m \u001b[0mguess\u001b[0m\u001b[0;34m)\u001b[0m\u001b[0;34m\u001b[0m\u001b[0;34m\u001b[0m\u001b[0m\n",
      "\u001b[0;32m~/opt/anaconda3/envs/py38/lib/python3.8/site-packages/ipykernel/kernelbase.py\u001b[0m in \u001b[0;36mraw_input\u001b[0;34m(self, prompt)\u001b[0m\n\u001b[1;32m    858\u001b[0m                 \u001b[0;34m\"raw_input was called, but this frontend does not support input requests.\"\u001b[0m\u001b[0;34m\u001b[0m\u001b[0;34m\u001b[0m\u001b[0m\n\u001b[1;32m    859\u001b[0m             )\n\u001b[0;32m--> 860\u001b[0;31m         return self._input_request(str(prompt),\n\u001b[0m\u001b[1;32m    861\u001b[0m             \u001b[0mself\u001b[0m\u001b[0;34m.\u001b[0m\u001b[0m_parent_ident\u001b[0m\u001b[0;34m,\u001b[0m\u001b[0;34m\u001b[0m\u001b[0;34m\u001b[0m\u001b[0m\n\u001b[1;32m    862\u001b[0m             \u001b[0mself\u001b[0m\u001b[0;34m.\u001b[0m\u001b[0m_parent_header\u001b[0m\u001b[0;34m,\u001b[0m\u001b[0;34m\u001b[0m\u001b[0;34m\u001b[0m\u001b[0m\n",
      "\u001b[0;32m~/opt/anaconda3/envs/py38/lib/python3.8/site-packages/ipykernel/kernelbase.py\u001b[0m in \u001b[0;36m_input_request\u001b[0;34m(self, prompt, ident, parent, password)\u001b[0m\n\u001b[1;32m    902\u001b[0m             \u001b[0;32mexcept\u001b[0m \u001b[0mKeyboardInterrupt\u001b[0m\u001b[0;34m:\u001b[0m\u001b[0;34m\u001b[0m\u001b[0;34m\u001b[0m\u001b[0m\n\u001b[1;32m    903\u001b[0m                 \u001b[0;31m# re-raise KeyboardInterrupt, to truncate traceback\u001b[0m\u001b[0;34m\u001b[0m\u001b[0;34m\u001b[0m\u001b[0;34m\u001b[0m\u001b[0m\n\u001b[0;32m--> 904\u001b[0;31m                 \u001b[0;32mraise\u001b[0m \u001b[0mKeyboardInterrupt\u001b[0m\u001b[0;34m(\u001b[0m\u001b[0;34m\"Interrupted by user\"\u001b[0m\u001b[0;34m)\u001b[0m \u001b[0;32mfrom\u001b[0m \u001b[0;32mNone\u001b[0m\u001b[0;34m\u001b[0m\u001b[0;34m\u001b[0m\u001b[0m\n\u001b[0m\u001b[1;32m    905\u001b[0m             \u001b[0;32mexcept\u001b[0m \u001b[0mException\u001b[0m \u001b[0;32mas\u001b[0m \u001b[0me\u001b[0m\u001b[0;34m:\u001b[0m\u001b[0;34m\u001b[0m\u001b[0;34m\u001b[0m\u001b[0m\n\u001b[1;32m    906\u001b[0m                 \u001b[0mself\u001b[0m\u001b[0;34m.\u001b[0m\u001b[0mlog\u001b[0m\u001b[0;34m.\u001b[0m\u001b[0mwarning\u001b[0m\u001b[0;34m(\u001b[0m\u001b[0;34m\"Invalid Message:\"\u001b[0m\u001b[0;34m,\u001b[0m \u001b[0mexc_info\u001b[0m\u001b[0;34m=\u001b[0m\u001b[0;32mTrue\u001b[0m\u001b[0;34m)\u001b[0m\u001b[0;34m\u001b[0m\u001b[0;34m\u001b[0m\u001b[0m\n",
      "\u001b[0;31mKeyboardInterrupt\u001b[0m: Interrupted by user"
     ]
    }
   ],
   "source": [
    "# Set set_secret to None to let the secret word be set randomly.\n",
    "# secret = None\n",
    "secret = 'steak'\n",
    "\n",
    "# Set the secret word.\n",
    "secret = set_secret(secret)\n",
    "\n",
    "secret_df = pd.DataFrame(data = pd.Series(secret).values.reshape([1, 5]), \\\n",
    "                   index = pd.MultiIndex.from_tuples([(0, 'secr.')]), columns = [0, 1, 2, 3, 4])\n",
    "\n",
    "print(secret_df)\n",
    "\n",
    "# Initiate results with an empty list as a placeholder\n",
    "results = []\n",
    "\n",
    "# Keep asking for guesses until the secret word has been found.\n",
    "while True: \n",
    "    \n",
    "    # Prompt the user for a guess.\n",
    "    guess = list(input().upper())\n",
    "    \n",
    "    results = build_results(results, secret, guess)\n",
    "    \n",
    "    print(results)\n",
    "    print(\"*\" * 50)\n",
    "\n",
    "    if sum(results.iloc[-1]) == 10:\n",
    "        break\n",
    "        \n",
    "results"
   ]
  },
  {
   "cell_type": "markdown",
   "metadata": {},
   "source": [
    "## Play automatically"
   ]
  },
  {
   "cell_type": "code",
   "execution_count": 16,
   "metadata": {
    "ExecuteTime": {
     "end_time": "2022-03-26T03:32:59.107842Z",
     "start_time": "2022-03-26T03:32:58.800519Z"
    },
    "code_folding": []
   },
   "outputs": [
    {
     "name": "stdout",
     "output_type": "stream",
     "text": [
      "         0  1  2  3  4\n",
      "0 secr.  D  R  O  P  S\n",
      "2500\n",
      "7\n",
      "2\n"
     ]
    },
    {
     "data": {
      "text/html": [
       "<div>\n",
       "<style scoped>\n",
       "    .dataframe tbody tr th:only-of-type {\n",
       "        vertical-align: middle;\n",
       "    }\n",
       "\n",
       "    .dataframe tbody tr th {\n",
       "        vertical-align: top;\n",
       "    }\n",
       "\n",
       "    .dataframe thead th {\n",
       "        text-align: right;\n",
       "    }\n",
       "</style>\n",
       "<table border=\"1\" class=\"dataframe\">\n",
       "  <thead>\n",
       "    <tr style=\"text-align: right;\">\n",
       "      <th></th>\n",
       "      <th></th>\n",
       "      <th>0</th>\n",
       "      <th>1</th>\n",
       "      <th>2</th>\n",
       "      <th>3</th>\n",
       "      <th>4</th>\n",
       "    </tr>\n",
       "  </thead>\n",
       "  <tbody>\n",
       "    <tr>\n",
       "      <th rowspan=\"2\" valign=\"top\">1</th>\n",
       "      <th>guess</th>\n",
       "      <td>H</td>\n",
       "      <td>O</td>\n",
       "      <td>L</td>\n",
       "      <td>D</td>\n",
       "      <td>S</td>\n",
       "    </tr>\n",
       "    <tr>\n",
       "      <th>check</th>\n",
       "      <td>0</td>\n",
       "      <td>1</td>\n",
       "      <td>0</td>\n",
       "      <td>1</td>\n",
       "      <td>2</td>\n",
       "    </tr>\n",
       "    <tr>\n",
       "      <th rowspan=\"2\" valign=\"top\">2</th>\n",
       "      <th>guess</th>\n",
       "      <td>E</td>\n",
       "      <td>I</td>\n",
       "      <td>D</td>\n",
       "      <td>O</td>\n",
       "      <td>S</td>\n",
       "    </tr>\n",
       "    <tr>\n",
       "      <th>check</th>\n",
       "      <td>0</td>\n",
       "      <td>0</td>\n",
       "      <td>1</td>\n",
       "      <td>1</td>\n",
       "      <td>2</td>\n",
       "    </tr>\n",
       "    <tr>\n",
       "      <th rowspan=\"2\" valign=\"top\">3</th>\n",
       "      <th>guess</th>\n",
       "      <td>D</td>\n",
       "      <td>R</td>\n",
       "      <td>O</td>\n",
       "      <td>P</td>\n",
       "      <td>S</td>\n",
       "    </tr>\n",
       "    <tr>\n",
       "      <th>check</th>\n",
       "      <td>2</td>\n",
       "      <td>2</td>\n",
       "      <td>2</td>\n",
       "      <td>2</td>\n",
       "      <td>2</td>\n",
       "    </tr>\n",
       "  </tbody>\n",
       "</table>\n",
       "</div>"
      ],
      "text/plain": [
       "         0  1  2  3  4\n",
       "1 guess  H  O  L  D  S\n",
       "  check  0  1  0  1  2\n",
       "2 guess  E  I  D  O  S\n",
       "  check  0  0  1  1  2\n",
       "3 guess  D  R  O  P  S\n",
       "  check  2  2  2  2  2"
      ]
     },
     "execution_count": 16,
     "metadata": {},
     "output_type": "execute_result"
    }
   ],
   "source": [
    "# Set the intial list of possible words to the words df\n",
    "possibles = words\n",
    "\n",
    "# Set the secret word.\n",
    "secret = list(possibles.iloc[np.random.randint(0, len(possibles))])\n",
    "\n",
    "print(pd.DataFrame(data = pd.Series(secret).values.reshape((1, 5)), \\\n",
    "                   index = pd.MultiIndex.from_tuples([(0, 'secr.')]), columns = [0, 1, 2, 3, 4]))\n",
    "\n",
    "# Initiate results with an empty list as a placeholder\n",
    "results = []\n",
    "\n",
    "# Keep asking for guesses until the secret word has been found.\n",
    "while True:       \n",
    "    \n",
    "    print(len(possibles))\n",
    "    # Chose a word at random from the remaining possibilities.\n",
    "    guess = list(possibles.iloc[np.random.randint(0, len(possibles))])\n",
    "    \n",
    "    results = build_results(results, secret, guess)\n",
    "    \n",
    "    possibles = determine_remaining(possibles, results)\n",
    "    \n",
    "    if sum(results.iloc[-1]) == 10:\n",
    "        break\n",
    "\n",
    "results\n"
   ]
  },
  {
   "cell_type": "markdown",
   "metadata": {},
   "source": [
    "## Find word in online game"
   ]
  },
  {
   "cell_type": "code",
   "execution_count": 8,
   "metadata": {
    "ExecuteTime": {
     "end_time": "2022-08-30T11:53:13.156910Z",
     "start_time": "2022-08-30T11:52:24.815966Z"
    }
   },
   "outputs": [
    {
     "name": "stdout",
     "output_type": "stream",
     "text": [
      "Guess: aster\n",
      "Checks: 01120\n",
      "**************************************************\n",
      "         0  1  2  3  4\n",
      "1 guess  A  S  T  E  R\n",
      "  check  0  1  1  2  0\n",
      "--------------------\n",
      "      0  1  2  3  4\n",
      "361   B  E  S  E  T\n",
      "1907  O  N  S  E  T\n",
      "2140  S  H  E  E  T\n",
      "2242  S  T  E  E  L\n",
      "2243  S  T  E  E  P\n",
      "2277  S  W  E  E  T\n",
      "2327  T  I  L  E  S\n",
      "2329  T  I  M  E  S\n",
      "2336  T  O  N  E  S\n",
      "2375  T  U  B  E  S\n",
      "2378  T  U  N  E  S\n",
      "2386  T  Y  P  E  S\n",
      "2397  U  P  S  E  T\n",
      "Guess: steed\n",
      "Checks: 11020\n",
      "**************************************************\n",
      "         0  1  2  3  4\n",
      "1 guess  A  S  T  E  R\n",
      "  check  0  1  1  2  0\n",
      "2 guess  S  T  E  E  D\n",
      "  check  1  1  0  2  0\n",
      "--------------------\n",
      "      0  1  2  3  4\n",
      "1907  O  N  S  E  T\n",
      "2327  T  I  L  E  S\n",
      "2329  T  I  M  E  S\n",
      "2336  T  O  N  E  S\n",
      "2375  T  U  B  E  S\n",
      "2378  T  U  N  E  S\n",
      "2386  T  Y  P  E  S\n",
      "2397  U  P  S  E  T\n",
      "Guess: tubes\n",
      "Checks: 10021\n",
      "**************************************************\n",
      "         0  1  2  3  4\n",
      "1 guess  A  S  T  E  R\n",
      "  check  0  1  1  2  0\n",
      "2 guess  S  T  E  E  D\n",
      "  check  1  1  0  2  0\n",
      "3 guess  T  U  B  E  S\n",
      "  check  1  0  0  2  1\n",
      "--------------------\n",
      "      0  1  2  3  4\n",
      "1907  O  N  S  E  T\n"
     ]
    }
   ],
   "source": [
    "possibles = words\n",
    "results = []\n",
    "\n",
    "while True:\n",
    "    guess = list(input(\"Guess: \").upper())\n",
    "    checks = [int(char) for char in list(input(\"Checks: \"))]\n",
    "\n",
    "    # Check the length of results to determine the number of the guess\n",
    "    guess_number = int(1 + (len(results) / 2))\n",
    "        \n",
    "    # Make a hierchical indx for a new two-row df\n",
    "    hier_index = pd.MultiIndex.from_tuples([(guess_number, 'guess'), (guess_number, 'check')])\n",
    "    \n",
    "    # Make a new two-row df for the new guess and checks\n",
    "    guess_and_checks = pd.DataFrame(data = [guess, checks], index = hier_index)\n",
    "\n",
    "    # Add the new guess and checks to the results\n",
    "    if len(results) == 0:\n",
    "        results = guess_and_checks.copy()\n",
    "    else:\n",
    "        results = pd.concat([results, guess_and_checks])   \n",
    "\n",
    "    print(\"*\" * 50)\n",
    "    print(results)\n",
    "    print(\"-\" * 20)\n",
    "        \n",
    "    possibles = determine_remaining(possibles, results)\n",
    "\n",
    "    print(possibles)\n",
    "    \n",
    "    if len(possibles) == 1:\n",
    "        break\n",
    "        \n",
    "        "
   ]
  },
  {
   "cell_type": "code",
   "execution_count": 24,
   "metadata": {
    "ExecuteTime": {
     "end_time": "2022-04-05T11:12:30.114402Z",
     "start_time": "2022-04-05T11:12:30.109829Z"
    }
   },
   "outputs": [],
   "source": [
    "def is_word_in_words(words, word):\n",
    "    letters = [char.upper() for char in word]\n",
    "    \n",
    "    return(words[(words[0] == letters[0]) & (words[1] == letters[1]) & (words[2] == letters[2]) \\\n",
    "          & (words[3] == letters[3]) & (words[4] == letters[4])])"
   ]
  },
  {
   "cell_type": "code",
   "execution_count": 28,
   "metadata": {
    "ExecuteTime": {
     "end_time": "2022-04-05T11:12:59.965612Z",
     "start_time": "2022-04-05T11:12:59.955926Z"
    }
   },
   "outputs": [
    {
     "data": {
      "text/html": [
       "<div>\n",
       "<style scoped>\n",
       "    .dataframe tbody tr th:only-of-type {\n",
       "        vertical-align: middle;\n",
       "    }\n",
       "\n",
       "    .dataframe tbody tr th {\n",
       "        vertical-align: top;\n",
       "    }\n",
       "\n",
       "    .dataframe thead th {\n",
       "        text-align: right;\n",
       "    }\n",
       "</style>\n",
       "<table border=\"1\" class=\"dataframe\">\n",
       "  <thead>\n",
       "    <tr style=\"text-align: right;\">\n",
       "      <th></th>\n",
       "      <th>0</th>\n",
       "      <th>1</th>\n",
       "      <th>2</th>\n",
       "      <th>3</th>\n",
       "      <th>4</th>\n",
       "    </tr>\n",
       "  </thead>\n",
       "  <tbody>\n",
       "    <tr>\n",
       "      <th>2184</th>\n",
       "      <td>S</td>\n",
       "      <td>M</td>\n",
       "      <td>A</td>\n",
       "      <td>R</td>\n",
       "      <td>T</td>\n",
       "    </tr>\n",
       "  </tbody>\n",
       "</table>\n",
       "</div>"
      ],
      "text/plain": [
       "      0  1  2  3  4\n",
       "2184  S  M  A  R  T"
      ]
     },
     "execution_count": 28,
     "metadata": {},
     "output_type": "execute_result"
    }
   ],
   "source": [
    "word = 'smart'\n",
    "is_word_in_words(words, word)"
   ]
  },
  {
   "cell_type": "code",
   "execution_count": 11,
   "metadata": {
    "ExecuteTime": {
     "end_time": "2022-04-05T11:06:48.470483Z",
     "start_time": "2022-04-05T11:06:48.468283Z"
    }
   },
   "outputs": [],
   "source": [
    "word = 'smart'"
   ]
  },
  {
   "cell_type": "code",
   "execution_count": 18,
   "metadata": {
    "ExecuteTime": {
     "end_time": "2022-04-05T11:08:50.270940Z",
     "start_time": "2022-04-05T11:08:50.268368Z"
    }
   },
   "outputs": [],
   "source": [
    "word_list = [char for char in word]"
   ]
  },
  {
   "cell_type": "code",
   "execution_count": 19,
   "metadata": {
    "ExecuteTime": {
     "end_time": "2022-04-05T11:08:50.935202Z",
     "start_time": "2022-04-05T11:08:50.931118Z"
    }
   },
   "outputs": [
    {
     "data": {
      "text/plain": [
       "['s', 'm', 'a', 'r', 't']"
      ]
     },
     "execution_count": 19,
     "metadata": {},
     "output_type": "execute_result"
    }
   ],
   "source": [
    "word_list"
   ]
  },
  {
   "cell_type": "code",
   "execution_count": 10,
   "metadata": {
    "ExecuteTime": {
     "end_time": "2022-04-04T12:35:47.023641Z",
     "start_time": "2022-04-04T12:35:47.019395Z"
    }
   },
   "outputs": [
    {
     "data": {
      "text/plain": [
       "0    S\n",
       "1    A\n",
       "2    V\n",
       "3    E\n",
       "4    S\n",
       "Name: 2100, dtype: object"
      ]
     },
     "execution_count": 10,
     "metadata": {},
     "output_type": "execute_result"
    }
   ],
   "source": [
    "words.iloc[2100]"
   ]
  },
  {
   "cell_type": "code",
   "execution_count": 82,
   "metadata": {
    "ExecuteTime": {
     "end_time": "2022-03-26T03:26:45.945263Z",
     "start_time": "2022-03-26T03:26:41.860592Z"
    }
   },
   "outputs": [
    {
     "name": "stdout",
     "output_type": "stream",
     "text": [
      "Checks: 00002\n"
     ]
    },
    {
     "data": {
      "text/plain": [
       "[0, 0, 0, 0, 2]"
      ]
     },
     "execution_count": 82,
     "metadata": {},
     "output_type": "execute_result"
    }
   ],
   "source": [
    "checks = [int(char) for char in list(input(\"Checks: \"))]\n",
    "checks"
   ]
  },
  {
   "cell_type": "markdown",
   "metadata": {
    "heading_collapsed": true
   },
   "source": [
    "## Select the best guess"
   ]
  },
  {
   "cell_type": "code",
   "execution_count": 12,
   "metadata": {
    "ExecuteTime": {
     "end_time": "2022-03-05T17:59:08.999987Z",
     "start_time": "2022-03-05T17:59:08.981372Z"
    },
    "code_folding": [],
    "hidden": true
   },
   "outputs": [
    {
     "data": {
      "text/html": [
       "<div>\n",
       "<style scoped>\n",
       "    .dataframe tbody tr th:only-of-type {\n",
       "        vertical-align: middle;\n",
       "    }\n",
       "\n",
       "    .dataframe tbody tr th {\n",
       "        vertical-align: top;\n",
       "    }\n",
       "\n",
       "    .dataframe thead th {\n",
       "        text-align: right;\n",
       "    }\n",
       "</style>\n",
       "<table border=\"1\" class=\"dataframe\">\n",
       "  <thead>\n",
       "    <tr style=\"text-align: right;\">\n",
       "      <th></th>\n",
       "      <th>0</th>\n",
       "      <th>1</th>\n",
       "      <th>2</th>\n",
       "      <th>3</th>\n",
       "      <th>4</th>\n",
       "      <th>remaining # if secret</th>\n",
       "      <th>aver. remaining # for guess</th>\n",
       "    </tr>\n",
       "  </thead>\n",
       "  <tbody>\n",
       "    <tr>\n",
       "      <th>0</th>\n",
       "      <td>A</td>\n",
       "      <td>B</td>\n",
       "      <td>A</td>\n",
       "      <td>C</td>\n",
       "      <td>K</td>\n",
       "      <td>0</td>\n",
       "      <td>0</td>\n",
       "    </tr>\n",
       "    <tr>\n",
       "      <th>1</th>\n",
       "      <td>A</td>\n",
       "      <td>B</td>\n",
       "      <td>A</td>\n",
       "      <td>S</td>\n",
       "      <td>E</td>\n",
       "      <td>0</td>\n",
       "      <td>0</td>\n",
       "    </tr>\n",
       "    <tr>\n",
       "      <th>2</th>\n",
       "      <td>A</td>\n",
       "      <td>B</td>\n",
       "      <td>A</td>\n",
       "      <td>T</td>\n",
       "      <td>E</td>\n",
       "      <td>0</td>\n",
       "      <td>0</td>\n",
       "    </tr>\n",
       "    <tr>\n",
       "      <th>3</th>\n",
       "      <td>A</td>\n",
       "      <td>B</td>\n",
       "      <td>A</td>\n",
       "      <td>Y</td>\n",
       "      <td>A</td>\n",
       "      <td>0</td>\n",
       "      <td>0</td>\n",
       "    </tr>\n",
       "    <tr>\n",
       "      <th>4</th>\n",
       "      <td>A</td>\n",
       "      <td>B</td>\n",
       "      <td>B</td>\n",
       "      <td>E</td>\n",
       "      <td>Y</td>\n",
       "      <td>0</td>\n",
       "      <td>0</td>\n",
       "    </tr>\n",
       "    <tr>\n",
       "      <th>...</th>\n",
       "      <td>...</td>\n",
       "      <td>...</td>\n",
       "      <td>...</td>\n",
       "      <td>...</td>\n",
       "      <td>...</td>\n",
       "      <td>...</td>\n",
       "      <td>...</td>\n",
       "    </tr>\n",
       "    <tr>\n",
       "      <th>95</th>\n",
       "      <td>A</td>\n",
       "      <td>L</td>\n",
       "      <td>L</td>\n",
       "      <td>O</td>\n",
       "      <td>T</td>\n",
       "      <td>0</td>\n",
       "      <td>0</td>\n",
       "    </tr>\n",
       "    <tr>\n",
       "      <th>96</th>\n",
       "      <td>A</td>\n",
       "      <td>L</td>\n",
       "      <td>L</td>\n",
       "      <td>O</td>\n",
       "      <td>W</td>\n",
       "      <td>0</td>\n",
       "      <td>0</td>\n",
       "    </tr>\n",
       "    <tr>\n",
       "      <th>97</th>\n",
       "      <td>A</td>\n",
       "      <td>L</td>\n",
       "      <td>L</td>\n",
       "      <td>O</td>\n",
       "      <td>Y</td>\n",
       "      <td>0</td>\n",
       "      <td>0</td>\n",
       "    </tr>\n",
       "    <tr>\n",
       "      <th>98</th>\n",
       "      <td>A</td>\n",
       "      <td>L</td>\n",
       "      <td>L</td>\n",
       "      <td>Y</td>\n",
       "      <td>L</td>\n",
       "      <td>0</td>\n",
       "      <td>0</td>\n",
       "    </tr>\n",
       "    <tr>\n",
       "      <th>99</th>\n",
       "      <td>A</td>\n",
       "      <td>L</td>\n",
       "      <td>O</td>\n",
       "      <td>E</td>\n",
       "      <td>S</td>\n",
       "      <td>0</td>\n",
       "      <td>0</td>\n",
       "    </tr>\n",
       "  </tbody>\n",
       "</table>\n",
       "<p>100 rows × 7 columns</p>\n",
       "</div>"
      ],
      "text/plain": [
       "    0  1  2  3  4  remaining # if secret  aver. remaining # for guess\n",
       "0   A  B  A  C  K                      0                            0\n",
       "1   A  B  A  S  E                      0                            0\n",
       "2   A  B  A  T  E                      0                            0\n",
       "3   A  B  A  Y  A                      0                            0\n",
       "4   A  B  B  E  Y                      0                            0\n",
       ".. .. .. .. .. ..                    ...                          ...\n",
       "95  A  L  L  O  T                      0                            0\n",
       "96  A  L  L  O  W                      0                            0\n",
       "97  A  L  L  O  Y                      0                            0\n",
       "98  A  L  L  Y  L                      0                            0\n",
       "99  A  L  O  E  S                      0                            0\n",
       "\n",
       "[100 rows x 7 columns]"
      ]
     },
     "execution_count": 12,
     "metadata": {},
     "output_type": "execute_result"
    }
   ],
   "source": [
    "# Limit the list to the first 100 words\n",
    "words_limited = words.iloc[:100,:].copy()\n",
    "\n",
    "words_limited['remaining # if secret'] = 0\n",
    "words_limited['aver. remaining # for guess'] = 0\n",
    "\n",
    "\n",
    "possible = words_limited\n",
    "\n",
    "possible\n",
    "\n",
    "# Set a random secret word\n",
    "# result, possible = start_over(words, None)\n",
    "# result"
   ]
  },
  {
   "cell_type": "code",
   "execution_count": 13,
   "metadata": {
    "ExecuteTime": {
     "end_time": "2022-03-05T18:03:15.963082Z",
     "start_time": "2022-03-05T18:03:15.348443Z"
    },
    "hidden": true
   },
   "outputs": [
    {
     "name": "stdout",
     "output_type": "stream",
     "text": [
      "   0  1  2  3  4 remaining # if secret aver. remaining # for guess\n",
      "0  A  B  A  C  K                     0                           0\n",
      "**************************************************\n",
      "--------------------------------------------------\n",
      "   0  1  2  3  4 remaining # if secret aver. remaining # for guess\n",
      "0  A  B  A  C  K                     0                           0\n",
      "--------------------------------------------------\n",
      "1\n"
     ]
    },
    {
     "ename": "IndexError",
     "evalue": "single positional indexer is out-of-bounds",
     "output_type": "error",
     "traceback": [
      "\u001b[0;31m---------------------------------------------------------------------------\u001b[0m",
      "\u001b[0;31mIndexError\u001b[0m                                Traceback (most recent call last)",
      "\u001b[0;32m<ipython-input-13-c5856d364525>\u001b[0m in \u001b[0;36m<module>\u001b[0;34m\u001b[0m\n\u001b[1;32m      7\u001b[0m     \u001b[0;32mfor\u001b[0m \u001b[0msecret_idx\u001b[0m \u001b[0;32min\u001b[0m \u001b[0mrange\u001b[0m\u001b[0;34m(\u001b[0m\u001b[0;36m0\u001b[0m\u001b[0;34m,\u001b[0m \u001b[0mlen\u001b[0m\u001b[0;34m(\u001b[0m\u001b[0mpossible\u001b[0m\u001b[0;34m)\u001b[0m\u001b[0;34m)\u001b[0m\u001b[0;34m:\u001b[0m\u001b[0;34m\u001b[0m\u001b[0;34m\u001b[0m\u001b[0m\n\u001b[1;32m      8\u001b[0m \u001b[0;31m#         print(secret_idx)\u001b[0m\u001b[0;34m\u001b[0m\u001b[0;34m\u001b[0m\u001b[0;34m\u001b[0m\u001b[0m\n\u001b[0;32m----> 9\u001b[0;31m         \u001b[0msecret\u001b[0m \u001b[0;34m=\u001b[0m \u001b[0mpossible\u001b[0m\u001b[0;34m.\u001b[0m\u001b[0miloc\u001b[0m\u001b[0;34m[\u001b[0m\u001b[0msecret_idx\u001b[0m\u001b[0;34m]\u001b[0m\u001b[0;34m\u001b[0m\u001b[0;34m\u001b[0m\u001b[0m\n\u001b[0m\u001b[1;32m     10\u001b[0m         \u001b[0mresult\u001b[0m \u001b[0;34m=\u001b[0m \u001b[0mpd\u001b[0m\u001b[0;34m.\u001b[0m\u001b[0mDataFrame\u001b[0m\u001b[0;34m(\u001b[0m\u001b[0msecret\u001b[0m\u001b[0;34m)\u001b[0m\u001b[0;34m.\u001b[0m\u001b[0mtranspose\u001b[0m\u001b[0;34m(\u001b[0m\u001b[0;34m)\u001b[0m\u001b[0;34m\u001b[0m\u001b[0;34m\u001b[0m\u001b[0m\n\u001b[1;32m     11\u001b[0m         \u001b[0mprint\u001b[0m\u001b[0;34m(\u001b[0m\u001b[0;34m\"-\"\u001b[0m \u001b[0;34m*\u001b[0m \u001b[0;36m50\u001b[0m\u001b[0;34m)\u001b[0m\u001b[0;34m\u001b[0m\u001b[0;34m\u001b[0m\u001b[0m\n",
      "\u001b[0;32m~/opt/anaconda3/envs/py38/lib/python3.8/site-packages/pandas/core/indexing.py\u001b[0m in \u001b[0;36m__getitem__\u001b[0;34m(self, key)\u001b[0m\n\u001b[1;32m    877\u001b[0m \u001b[0;34m\u001b[0m\u001b[0m\n\u001b[1;32m    878\u001b[0m             \u001b[0mmaybe_callable\u001b[0m \u001b[0;34m=\u001b[0m \u001b[0mcom\u001b[0m\u001b[0;34m.\u001b[0m\u001b[0mapply_if_callable\u001b[0m\u001b[0;34m(\u001b[0m\u001b[0mkey\u001b[0m\u001b[0;34m,\u001b[0m \u001b[0mself\u001b[0m\u001b[0;34m.\u001b[0m\u001b[0mobj\u001b[0m\u001b[0;34m)\u001b[0m\u001b[0;34m\u001b[0m\u001b[0;34m\u001b[0m\u001b[0m\n\u001b[0;32m--> 879\u001b[0;31m             \u001b[0;32mreturn\u001b[0m \u001b[0mself\u001b[0m\u001b[0;34m.\u001b[0m\u001b[0m_getitem_axis\u001b[0m\u001b[0;34m(\u001b[0m\u001b[0mmaybe_callable\u001b[0m\u001b[0;34m,\u001b[0m \u001b[0maxis\u001b[0m\u001b[0;34m=\u001b[0m\u001b[0maxis\u001b[0m\u001b[0;34m)\u001b[0m\u001b[0;34m\u001b[0m\u001b[0;34m\u001b[0m\u001b[0m\n\u001b[0m\u001b[1;32m    880\u001b[0m \u001b[0;34m\u001b[0m\u001b[0m\n\u001b[1;32m    881\u001b[0m     \u001b[0;32mdef\u001b[0m \u001b[0m_is_scalar_access\u001b[0m\u001b[0;34m(\u001b[0m\u001b[0mself\u001b[0m\u001b[0;34m,\u001b[0m \u001b[0mkey\u001b[0m\u001b[0;34m:\u001b[0m \u001b[0mTuple\u001b[0m\u001b[0;34m)\u001b[0m\u001b[0;34m:\u001b[0m\u001b[0;34m\u001b[0m\u001b[0;34m\u001b[0m\u001b[0m\n",
      "\u001b[0;32m~/opt/anaconda3/envs/py38/lib/python3.8/site-packages/pandas/core/indexing.py\u001b[0m in \u001b[0;36m_getitem_axis\u001b[0;34m(self, key, axis)\u001b[0m\n\u001b[1;32m   1494\u001b[0m \u001b[0;34m\u001b[0m\u001b[0m\n\u001b[1;32m   1495\u001b[0m             \u001b[0;31m# validate the location\u001b[0m\u001b[0;34m\u001b[0m\u001b[0;34m\u001b[0m\u001b[0;34m\u001b[0m\u001b[0m\n\u001b[0;32m-> 1496\u001b[0;31m             \u001b[0mself\u001b[0m\u001b[0;34m.\u001b[0m\u001b[0m_validate_integer\u001b[0m\u001b[0;34m(\u001b[0m\u001b[0mkey\u001b[0m\u001b[0;34m,\u001b[0m \u001b[0maxis\u001b[0m\u001b[0;34m)\u001b[0m\u001b[0;34m\u001b[0m\u001b[0;34m\u001b[0m\u001b[0m\n\u001b[0m\u001b[1;32m   1497\u001b[0m \u001b[0;34m\u001b[0m\u001b[0m\n\u001b[1;32m   1498\u001b[0m             \u001b[0;32mreturn\u001b[0m \u001b[0mself\u001b[0m\u001b[0;34m.\u001b[0m\u001b[0mobj\u001b[0m\u001b[0;34m.\u001b[0m\u001b[0m_ixs\u001b[0m\u001b[0;34m(\u001b[0m\u001b[0mkey\u001b[0m\u001b[0;34m,\u001b[0m \u001b[0maxis\u001b[0m\u001b[0;34m=\u001b[0m\u001b[0maxis\u001b[0m\u001b[0;34m)\u001b[0m\u001b[0;34m\u001b[0m\u001b[0;34m\u001b[0m\u001b[0m\n",
      "\u001b[0;32m~/opt/anaconda3/envs/py38/lib/python3.8/site-packages/pandas/core/indexing.py\u001b[0m in \u001b[0;36m_validate_integer\u001b[0;34m(self, key, axis)\u001b[0m\n\u001b[1;32m   1435\u001b[0m         \u001b[0mlen_axis\u001b[0m \u001b[0;34m=\u001b[0m \u001b[0mlen\u001b[0m\u001b[0;34m(\u001b[0m\u001b[0mself\u001b[0m\u001b[0;34m.\u001b[0m\u001b[0mobj\u001b[0m\u001b[0;34m.\u001b[0m\u001b[0m_get_axis\u001b[0m\u001b[0;34m(\u001b[0m\u001b[0maxis\u001b[0m\u001b[0;34m)\u001b[0m\u001b[0;34m)\u001b[0m\u001b[0;34m\u001b[0m\u001b[0;34m\u001b[0m\u001b[0m\n\u001b[1;32m   1436\u001b[0m         \u001b[0;32mif\u001b[0m \u001b[0mkey\u001b[0m \u001b[0;34m>=\u001b[0m \u001b[0mlen_axis\u001b[0m \u001b[0;32mor\u001b[0m \u001b[0mkey\u001b[0m \u001b[0;34m<\u001b[0m \u001b[0;34m-\u001b[0m\u001b[0mlen_axis\u001b[0m\u001b[0;34m:\u001b[0m\u001b[0;34m\u001b[0m\u001b[0;34m\u001b[0m\u001b[0m\n\u001b[0;32m-> 1437\u001b[0;31m             \u001b[0;32mraise\u001b[0m \u001b[0mIndexError\u001b[0m\u001b[0;34m(\u001b[0m\u001b[0;34m\"single positional indexer is out-of-bounds\"\u001b[0m\u001b[0;34m)\u001b[0m\u001b[0;34m\u001b[0m\u001b[0;34m\u001b[0m\u001b[0m\n\u001b[0m\u001b[1;32m   1438\u001b[0m \u001b[0;34m\u001b[0m\u001b[0m\n\u001b[1;32m   1439\u001b[0m     \u001b[0;31m# -------------------------------------------------------------------\u001b[0m\u001b[0;34m\u001b[0m\u001b[0;34m\u001b[0m\u001b[0;34m\u001b[0m\u001b[0m\n",
      "\u001b[0;31mIndexError\u001b[0m: single positional indexer is out-of-bounds"
     ]
    }
   ],
   "source": [
    "# for guess_idx in range(0, len(possible)):\n",
    "for guess_idx in range(0, 1):\n",
    "    guess = pd.DataFrame(possible.iloc[guess_idx]).transpose()\n",
    "    print(guess)\n",
    "    print(\"*\" * 50)\n",
    "    \n",
    "    for secret_idx in range(0, len(possible)):\n",
    "#         print(secret_idx)\n",
    "        secret = possible.iloc[secret_idx]\n",
    "        result = pd.DataFrame(secret).transpose()\n",
    "        print(\"-\" * 50)\n",
    "        print(result)\n",
    "        print(\"-\" * 50)\n",
    "        result.index = ['secret']\n",
    "        \n",
    "        result = check(result, guess)\n",
    "        possible = determine_remaining(possible, result)\n",
    "        \n",
    "        print(len(possible))\n",
    "        \n",
    "        \n",
    "        \n",
    "    "
   ]
  },
  {
   "cell_type": "code",
   "execution_count": 88,
   "metadata": {
    "ExecuteTime": {
     "end_time": "2022-02-23T03:52:07.035852Z",
     "start_time": "2022-02-23T03:52:07.029877Z"
    },
    "hidden": true
   },
   "outputs": [],
   "source": [
    "\n",
    "\n",
    "\n",
    "for guess_idx in range(0, len(possible)):\n",
    "    guess = possible.iloc[guess_idx]\n",
    "\n",
    "\n",
    "    for secret_idx in range(0, 1):\n",
    "        result, possible = start_over(words, secret_idx)\n",
    "\n"
   ]
  },
  {
   "cell_type": "code",
   "execution_count": null,
   "metadata": {
    "hidden": true
   },
   "outputs": [],
   "source": []
  }
 ],
 "metadata": {
  "kernelspec": {
   "display_name": "Python 3",
   "language": "python",
   "name": "python3"
  },
  "language_info": {
   "codemirror_mode": {
    "name": "ipython",
    "version": 3
   },
   "file_extension": ".py",
   "mimetype": "text/x-python",
   "name": "python",
   "nbconvert_exporter": "python",
   "pygments_lexer": "ipython3",
   "version": "3.8.2"
  },
  "varInspector": {
   "cols": {
    "lenName": 16,
    "lenType": 16,
    "lenVar": 40
   },
   "kernels_config": {
    "python": {
     "delete_cmd_postfix": "",
     "delete_cmd_prefix": "del ",
     "library": "var_list.py",
     "varRefreshCmd": "print(var_dic_list())"
    },
    "r": {
     "delete_cmd_postfix": ") ",
     "delete_cmd_prefix": "rm(",
     "library": "var_list.r",
     "varRefreshCmd": "cat(var_dic_list()) "
    }
   },
   "types_to_exclude": [
    "module",
    "function",
    "builtin_function_or_method",
    "instance",
    "_Feature"
   ],
   "window_display": false
  }
 },
 "nbformat": 4,
 "nbformat_minor": 4
}
