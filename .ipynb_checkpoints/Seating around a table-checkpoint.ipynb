{
 "cells": [
  {
   "cell_type": "markdown",
   "metadata": {},
   "source": [
    "2021-07-22\n",
    "\n",
    "Six people, three men and three women, sit at a table, three on each side. What are the chances that all the three men end up on one side, if they are placed at random?"
   ]
  },
  {
   "cell_type": "code",
   "execution_count": 1,
   "metadata": {
    "ExecuteTime": {
     "end_time": "2021-09-19T12:31:14.617608Z",
     "start_time": "2021-09-19T12:31:14.615163Z"
    }
   },
   "outputs": [],
   "source": [
    "import itertools"
   ]
  },
  {
   "cell_type": "code",
   "execution_count": 2,
   "metadata": {
    "ExecuteTime": {
     "end_time": "2021-09-19T12:31:16.975414Z",
     "start_time": "2021-09-19T12:31:16.970508Z"
    }
   },
   "outputs": [
    {
     "name": "stdout",
     "output_type": "stream",
     "text": [
      "Possible permutations:  720\n",
      "Permutations where all on one side are of the same sex:  72\n",
      "If you place three man and three women at a table at random, the chances that the three men all end up on one side is  10.0 %.\n"
     ]
    }
   ],
   "source": [
    "# Solution, using itertools.permutations\n",
    "all_same = 0\n",
    "permutations = 0\n",
    "all_on_one_side = 0\n",
    "group = ['M', 'M', 'M', 'W', 'W', 'W']\n",
    "# group = ['a', 'b', 'c']\n",
    "for seating in itertools.permutations(group, 6):\n",
    "#     print(seating)\n",
    "    permutations += 1\n",
    "    if seating[0] == seating[1] == seating[2]:\n",
    "        all_on_one_side += 1\n",
    "        \n",
    "print(\"Possible permutations: \", permutations)\n",
    "print(\"Permutations where all on one side are of the same sex: \", all_on_one_side)\n",
    "print(\"If you place three man and three women at a table at random, the chances that the three men \\\n",
    "all end up on one side is \", 100 * all_on_one_side/permutations, \"%.\")\n",
    "      \n"
   ]
  },
  {
   "cell_type": "code",
   "execution_count": 28,
   "metadata": {
    "ExecuteTime": {
     "end_time": "2021-09-19T12:44:12.902333Z",
     "start_time": "2021-09-19T12:44:12.898543Z"
    }
   },
   "outputs": [],
   "source": [
    "# How I would build a permutator if I didn't have itertools.permutations.\n",
    "# Problem: The counter keep incrementing from one run to the next. I can't reset it,\n",
    "# since I depend on it to keep incrementing through recursive calls.\n",
    "def permutator(elements, size, permutation):\n",
    "    for idx, el in enumerate(elements):\n",
    "        perm = permutation.copy()\n",
    "        perm.append(el)\n",
    "        if len(perm) == size:\n",
    "            global count\n",
    "            count += 1\n",
    "            print(count, perm)\n",
    "        else:\n",
    "            remainder = elements.copy()\n",
    "            del remainder[idx]\n",
    "            permutator(remainder, size, perm)"
   ]
  },
  {
   "cell_type": "code",
   "execution_count": 30,
   "metadata": {
    "ExecuteTime": {
     "end_time": "2021-09-19T12:44:17.019775Z",
     "start_time": "2021-09-19T12:44:17.011913Z"
    }
   },
   "outputs": [
    {
     "name": "stdout",
     "output_type": "stream",
     "text": [
      "121 ['a', 'b', 'c']\n",
      "122 ['a', 'b', 'd']\n",
      "123 ['a', 'b', 'e']\n",
      "124 ['a', 'b', 'f']\n",
      "125 ['a', 'c', 'b']\n",
      "126 ['a', 'c', 'd']\n",
      "127 ['a', 'c', 'e']\n",
      "128 ['a', 'c', 'f']\n",
      "129 ['a', 'd', 'b']\n",
      "130 ['a', 'd', 'c']\n",
      "131 ['a', 'd', 'e']\n",
      "132 ['a', 'd', 'f']\n",
      "133 ['a', 'e', 'b']\n",
      "134 ['a', 'e', 'c']\n",
      "135 ['a', 'e', 'd']\n",
      "136 ['a', 'e', 'f']\n",
      "137 ['a', 'f', 'b']\n",
      "138 ['a', 'f', 'c']\n",
      "139 ['a', 'f', 'd']\n",
      "140 ['a', 'f', 'e']\n",
      "141 ['b', 'a', 'c']\n",
      "142 ['b', 'a', 'd']\n",
      "143 ['b', 'a', 'e']\n",
      "144 ['b', 'a', 'f']\n",
      "145 ['b', 'c', 'a']\n",
      "146 ['b', 'c', 'd']\n",
      "147 ['b', 'c', 'e']\n",
      "148 ['b', 'c', 'f']\n",
      "149 ['b', 'd', 'a']\n",
      "150 ['b', 'd', 'c']\n",
      "151 ['b', 'd', 'e']\n",
      "152 ['b', 'd', 'f']\n",
      "153 ['b', 'e', 'a']\n",
      "154 ['b', 'e', 'c']\n",
      "155 ['b', 'e', 'd']\n",
      "156 ['b', 'e', 'f']\n",
      "157 ['b', 'f', 'a']\n",
      "158 ['b', 'f', 'c']\n",
      "159 ['b', 'f', 'd']\n",
      "160 ['b', 'f', 'e']\n",
      "161 ['c', 'a', 'b']\n",
      "162 ['c', 'a', 'd']\n",
      "163 ['c', 'a', 'e']\n",
      "164 ['c', 'a', 'f']\n",
      "165 ['c', 'b', 'a']\n",
      "166 ['c', 'b', 'd']\n",
      "167 ['c', 'b', 'e']\n",
      "168 ['c', 'b', 'f']\n",
      "169 ['c', 'd', 'a']\n",
      "170 ['c', 'd', 'b']\n",
      "171 ['c', 'd', 'e']\n",
      "172 ['c', 'd', 'f']\n",
      "173 ['c', 'e', 'a']\n",
      "174 ['c', 'e', 'b']\n",
      "175 ['c', 'e', 'd']\n",
      "176 ['c', 'e', 'f']\n",
      "177 ['c', 'f', 'a']\n",
      "178 ['c', 'f', 'b']\n",
      "179 ['c', 'f', 'd']\n",
      "180 ['c', 'f', 'e']\n",
      "181 ['d', 'a', 'b']\n",
      "182 ['d', 'a', 'c']\n",
      "183 ['d', 'a', 'e']\n",
      "184 ['d', 'a', 'f']\n",
      "185 ['d', 'b', 'a']\n",
      "186 ['d', 'b', 'c']\n",
      "187 ['d', 'b', 'e']\n",
      "188 ['d', 'b', 'f']\n",
      "189 ['d', 'c', 'a']\n",
      "190 ['d', 'c', 'b']\n",
      "191 ['d', 'c', 'e']\n",
      "192 ['d', 'c', 'f']\n",
      "193 ['d', 'e', 'a']\n",
      "194 ['d', 'e', 'b']\n",
      "195 ['d', 'e', 'c']\n",
      "196 ['d', 'e', 'f']\n",
      "197 ['d', 'f', 'a']\n",
      "198 ['d', 'f', 'b']\n",
      "199 ['d', 'f', 'c']\n",
      "200 ['d', 'f', 'e']\n",
      "201 ['e', 'a', 'b']\n",
      "202 ['e', 'a', 'c']\n",
      "203 ['e', 'a', 'd']\n",
      "204 ['e', 'a', 'f']\n",
      "205 ['e', 'b', 'a']\n",
      "206 ['e', 'b', 'c']\n",
      "207 ['e', 'b', 'd']\n",
      "208 ['e', 'b', 'f']\n",
      "209 ['e', 'c', 'a']\n",
      "210 ['e', 'c', 'b']\n",
      "211 ['e', 'c', 'd']\n",
      "212 ['e', 'c', 'f']\n",
      "213 ['e', 'd', 'a']\n",
      "214 ['e', 'd', 'b']\n",
      "215 ['e', 'd', 'c']\n",
      "216 ['e', 'd', 'f']\n",
      "217 ['e', 'f', 'a']\n",
      "218 ['e', 'f', 'b']\n",
      "219 ['e', 'f', 'c']\n",
      "220 ['e', 'f', 'd']\n",
      "221 ['f', 'a', 'b']\n",
      "222 ['f', 'a', 'c']\n",
      "223 ['f', 'a', 'd']\n",
      "224 ['f', 'a', 'e']\n",
      "225 ['f', 'b', 'a']\n",
      "226 ['f', 'b', 'c']\n",
      "227 ['f', 'b', 'd']\n",
      "228 ['f', 'b', 'e']\n",
      "229 ['f', 'c', 'a']\n",
      "230 ['f', 'c', 'b']\n",
      "231 ['f', 'c', 'd']\n",
      "232 ['f', 'c', 'e']\n",
      "233 ['f', 'd', 'a']\n",
      "234 ['f', 'd', 'b']\n",
      "235 ['f', 'd', 'c']\n",
      "236 ['f', 'd', 'e']\n",
      "237 ['f', 'e', 'a']\n",
      "238 ['f', 'e', 'b']\n",
      "239 ['f', 'e', 'c']\n",
      "240 ['f', 'e', 'd']\n"
     ]
    }
   ],
   "source": [
    "# Testing my permutator\n",
    "# Run it several times, and notice that the count keeps incrementing from the previous run.\n",
    "elements = ['a', 'b', 'c', 'd', 'e', 'f']\n",
    "permutator(elements, 3, [])"
   ]
  },
  {
   "cell_type": "code",
   "execution_count": 86,
   "metadata": {
    "ExecuteTime": {
     "end_time": "2021-09-19T12:58:23.549894Z",
     "start_time": "2021-09-19T12:58:23.546764Z"
    },
    "code_folding": []
   },
   "outputs": [],
   "source": [
    "# A Counter class that gives you a global count of how many times a function has been called.\n",
    "# It's a more elegant solution than using a global variable, but it suffers from the same problem:\n",
    "# the counter is not reset at the end of the run.\n",
    "class Counter(object) :\n",
    "    def __init__(self, fun) :\n",
    "        self._fun = fun\n",
    "        self.counter = 0\n",
    "    def __call__(self, *args, **kwargs):\n",
    "        self.counter += 1\n",
    "        return self._fun(*args, **kwargs)"
   ]
  },
  {
   "cell_type": "code",
   "execution_count": 87,
   "metadata": {
    "ExecuteTime": {
     "end_time": "2021-09-19T12:58:24.176293Z",
     "start_time": "2021-09-19T12:58:24.172397Z"
    }
   },
   "outputs": [],
   "source": [
    "def permutator2(elements, size, permutation):\n",
    "    for idx, el in enumerate(elements):\n",
    "        perm = permutation.copy()\n",
    "        perm.append(el)\n",
    "        if len(perm) == size:\n",
    "            permutator2.counter += 1\n",
    "            print(permutator2.counter, perm)\n",
    "        else:\n",
    "            remainder = elements.copy()\n",
    "            del remainder[idx]\n",
    "            permutator2(remainder, size, perm)\n",
    "            \n",
    "permutator2 = Counter(permutator2)"
   ]
  },
  {
   "cell_type": "code",
   "execution_count": 88,
   "metadata": {
    "ExecuteTime": {
     "end_time": "2021-09-19T12:58:24.767891Z",
     "start_time": "2021-09-19T12:58:24.765098Z"
    }
   },
   "outputs": [
    {
     "name": "stdout",
     "output_type": "stream",
     "text": [
      "0\n"
     ]
    }
   ],
   "source": [
    "print(permutator2.counter)"
   ]
  },
  {
   "cell_type": "code",
   "execution_count": 90,
   "metadata": {
    "ExecuteTime": {
     "end_time": "2021-09-19T12:58:28.924053Z",
     "start_time": "2021-09-19T12:58:28.915899Z"
    }
   },
   "outputs": [
    {
     "name": "stdout",
     "output_type": "stream",
     "text": [
      "161 ['a', 'b', 'c']\n",
      "162 ['a', 'b', 'd']\n",
      "163 ['a', 'b', 'e']\n",
      "164 ['a', 'b', 'f']\n",
      "166 ['a', 'c', 'b']\n",
      "167 ['a', 'c', 'd']\n",
      "168 ['a', 'c', 'e']\n",
      "169 ['a', 'c', 'f']\n",
      "171 ['a', 'd', 'b']\n",
      "172 ['a', 'd', 'c']\n",
      "173 ['a', 'd', 'e']\n",
      "174 ['a', 'd', 'f']\n",
      "176 ['a', 'e', 'b']\n",
      "177 ['a', 'e', 'c']\n",
      "178 ['a', 'e', 'd']\n",
      "179 ['a', 'e', 'f']\n",
      "181 ['a', 'f', 'b']\n",
      "182 ['a', 'f', 'c']\n",
      "183 ['a', 'f', 'd']\n",
      "184 ['a', 'f', 'e']\n",
      "187 ['b', 'a', 'c']\n",
      "188 ['b', 'a', 'd']\n",
      "189 ['b', 'a', 'e']\n",
      "190 ['b', 'a', 'f']\n",
      "192 ['b', 'c', 'a']\n",
      "193 ['b', 'c', 'd']\n",
      "194 ['b', 'c', 'e']\n",
      "195 ['b', 'c', 'f']\n",
      "197 ['b', 'd', 'a']\n",
      "198 ['b', 'd', 'c']\n",
      "199 ['b', 'd', 'e']\n",
      "200 ['b', 'd', 'f']\n",
      "202 ['b', 'e', 'a']\n",
      "203 ['b', 'e', 'c']\n",
      "204 ['b', 'e', 'd']\n",
      "205 ['b', 'e', 'f']\n",
      "207 ['b', 'f', 'a']\n",
      "208 ['b', 'f', 'c']\n",
      "209 ['b', 'f', 'd']\n",
      "210 ['b', 'f', 'e']\n",
      "213 ['c', 'a', 'b']\n",
      "214 ['c', 'a', 'd']\n",
      "215 ['c', 'a', 'e']\n",
      "216 ['c', 'a', 'f']\n",
      "218 ['c', 'b', 'a']\n",
      "219 ['c', 'b', 'd']\n",
      "220 ['c', 'b', 'e']\n",
      "221 ['c', 'b', 'f']\n",
      "223 ['c', 'd', 'a']\n",
      "224 ['c', 'd', 'b']\n",
      "225 ['c', 'd', 'e']\n",
      "226 ['c', 'd', 'f']\n",
      "228 ['c', 'e', 'a']\n",
      "229 ['c', 'e', 'b']\n",
      "230 ['c', 'e', 'd']\n",
      "231 ['c', 'e', 'f']\n",
      "233 ['c', 'f', 'a']\n",
      "234 ['c', 'f', 'b']\n",
      "235 ['c', 'f', 'd']\n",
      "236 ['c', 'f', 'e']\n",
      "239 ['d', 'a', 'b']\n",
      "240 ['d', 'a', 'c']\n",
      "241 ['d', 'a', 'e']\n",
      "242 ['d', 'a', 'f']\n",
      "244 ['d', 'b', 'a']\n",
      "245 ['d', 'b', 'c']\n",
      "246 ['d', 'b', 'e']\n",
      "247 ['d', 'b', 'f']\n",
      "249 ['d', 'c', 'a']\n",
      "250 ['d', 'c', 'b']\n",
      "251 ['d', 'c', 'e']\n",
      "252 ['d', 'c', 'f']\n",
      "254 ['d', 'e', 'a']\n",
      "255 ['d', 'e', 'b']\n",
      "256 ['d', 'e', 'c']\n",
      "257 ['d', 'e', 'f']\n",
      "259 ['d', 'f', 'a']\n",
      "260 ['d', 'f', 'b']\n",
      "261 ['d', 'f', 'c']\n",
      "262 ['d', 'f', 'e']\n",
      "265 ['e', 'a', 'b']\n",
      "266 ['e', 'a', 'c']\n",
      "267 ['e', 'a', 'd']\n",
      "268 ['e', 'a', 'f']\n",
      "270 ['e', 'b', 'a']\n",
      "271 ['e', 'b', 'c']\n",
      "272 ['e', 'b', 'd']\n",
      "273 ['e', 'b', 'f']\n",
      "275 ['e', 'c', 'a']\n",
      "276 ['e', 'c', 'b']\n",
      "277 ['e', 'c', 'd']\n",
      "278 ['e', 'c', 'f']\n",
      "280 ['e', 'd', 'a']\n",
      "281 ['e', 'd', 'b']\n",
      "282 ['e', 'd', 'c']\n",
      "283 ['e', 'd', 'f']\n",
      "285 ['e', 'f', 'a']\n",
      "286 ['e', 'f', 'b']\n",
      "287 ['e', 'f', 'c']\n",
      "288 ['e', 'f', 'd']\n",
      "291 ['f', 'a', 'b']\n",
      "292 ['f', 'a', 'c']\n",
      "293 ['f', 'a', 'd']\n",
      "294 ['f', 'a', 'e']\n",
      "296 ['f', 'b', 'a']\n",
      "297 ['f', 'b', 'c']\n",
      "298 ['f', 'b', 'd']\n",
      "299 ['f', 'b', 'e']\n",
      "301 ['f', 'c', 'a']\n",
      "302 ['f', 'c', 'b']\n",
      "303 ['f', 'c', 'd']\n",
      "304 ['f', 'c', 'e']\n",
      "306 ['f', 'd', 'a']\n",
      "307 ['f', 'd', 'b']\n",
      "308 ['f', 'd', 'c']\n",
      "309 ['f', 'd', 'e']\n",
      "311 ['f', 'e', 'a']\n",
      "312 ['f', 'e', 'b']\n",
      "313 ['f', 'e', 'c']\n",
      "314 ['f', 'e', 'd']\n"
     ]
    }
   ],
   "source": [
    "elements = ['a', 'b', 'c', 'd', 'e', 'f']\n",
    "permutator2(elements, 3, [])"
   ]
  },
  {
   "cell_type": "code",
   "execution_count": null,
   "metadata": {},
   "outputs": [],
   "source": []
  }
 ],
 "metadata": {
  "kernelspec": {
   "display_name": "Python 3",
   "language": "python",
   "name": "python3"
  },
  "language_info": {
   "codemirror_mode": {
    "name": "ipython",
    "version": 3
   },
   "file_extension": ".py",
   "mimetype": "text/x-python",
   "name": "python",
   "nbconvert_exporter": "python",
   "pygments_lexer": "ipython3",
   "version": "3.8.2"
  },
  "varInspector": {
   "cols": {
    "lenName": 16,
    "lenType": 16,
    "lenVar": 40
   },
   "kernels_config": {
    "python": {
     "delete_cmd_postfix": "",
     "delete_cmd_prefix": "del ",
     "library": "var_list.py",
     "varRefreshCmd": "print(var_dic_list())"
    },
    "r": {
     "delete_cmd_postfix": ") ",
     "delete_cmd_prefix": "rm(",
     "library": "var_list.r",
     "varRefreshCmd": "cat(var_dic_list()) "
    }
   },
   "types_to_exclude": [
    "module",
    "function",
    "builtin_function_or_method",
    "instance",
    "_Feature"
   ],
   "window_display": false
  }
 },
 "nbformat": 4,
 "nbformat_minor": 4
}
